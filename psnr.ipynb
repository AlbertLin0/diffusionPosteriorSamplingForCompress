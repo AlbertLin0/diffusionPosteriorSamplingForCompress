{
 "cells": [
  {
   "cell_type": "code",
   "execution_count": 1,
   "metadata": {},
   "outputs": [
    {
     "name": "stderr",
     "output_type": "stream",
     "text": [
      "/home/nbicc/.local/lib/python3.9/site-packages/tqdm/auto.py:21: TqdmWarning: IProgress not found. Please update jupyter and ipywidgets. See https://ipywidgets.readthedocs.io/en/stable/user_install.html\n",
      "  from .autonotebook import tqdm as notebook_tqdm\n"
     ]
    }
   ],
   "source": [
    "from PIL import Image\n",
    "import numpy as np\n",
    "import torchvision.transforms as transforms\n",
    "def calculate_psnr(img1, img2):\n",
    "    mse = np.mean((img1 - img2) ** 2)\n",
    "    if mse == 0:\n",
    "        return float('inf')\n",
    "    max_pixel = 255.0\n",
    "    psnr = 20 * np.log10(max_pixel / np.sqrt(mse))\n",
    "    return psnr\n",
    "\n"
   ]
  },
  {
   "cell_type": "code",
   "execution_count": 8,
   "metadata": {},
   "outputs": [
    {
     "name": "stdout",
     "output_type": "stream",
     "text": [
      "PSNR: 33.03333222664462 dB\n"
     ]
    }
   ],
   "source": [
    "path1 = 'results/elic_vtest/label/0001.png'\n",
    "path2 = 'results/elic_vtest/recon/test28_0000.png'\n",
    "# path2 = 'results/elic_vtest/input/0000.png'\n",
    "# path2 = 'data/test3/test1.png'\n",
    "# path2 = 'data/test3/00000.png'\n",
    "# 示例用法\n",
    "# 读取两张图像\n",
    "img1 = Image.open(path2)\n",
    "img2 = Image.open(path1)\n",
    "img1 = img1.convert(\"RGB\")\n",
    "img2 = img2.convert(\"RGB\")\n",
    "\n",
    "# 将图像转换为 NumPy 数组\n",
    "img1 = np.array(img1)\n",
    "img2 = np.array(img2)\n",
    "\n",
    "# 确保图像具有相同的尺寸和类型\n",
    "if img1.shape != img2.shape:\n",
    "    raise ValueError(\"输入图像必须具有相同的尺寸和类型\")\n",
    "\n",
    "psnr_value = calculate_psnr(img1, img2)\n",
    "print(f\"PSNR: {psnr_value} dB\")\n"
   ]
  }
 ],
 "metadata": {
  "kernelspec": {
   "display_name": "Idem_project",
   "language": "python",
   "name": "python3"
  },
  "language_info": {
   "codemirror_mode": {
    "name": "ipython",
    "version": 3
   },
   "file_extension": ".py",
   "mimetype": "text/x-python",
   "name": "python",
   "nbconvert_exporter": "python",
   "pygments_lexer": "ipython3",
   "version": "3.9.13"
  },
  "orig_nbformat": 4
 },
 "nbformat": 4,
 "nbformat_minor": 2
}
