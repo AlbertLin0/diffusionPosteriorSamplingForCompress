{
 "cells": [
  {
   "cell_type": "code",
   "execution_count": 1,
   "metadata": {},
   "outputs": [
    {
     "name": "stderr",
     "output_type": "stream",
     "text": [
      "/home/nbicc/.local/lib/python3.9/site-packages/tqdm/auto.py:21: TqdmWarning: IProgress not found. Please update jupyter and ipywidgets. See https://ipywidgets.readthedocs.io/en/stable/user_install.html\n",
      "  from .autonotebook import tqdm as notebook_tqdm\n"
     ]
    },
    {
     "ename": "FileNotFoundError",
     "evalue": "[Errno 2] No such file or directory: '/home/nbicc/data/hhb/diffusionPosteriorSampling/results/bmjshj2018_factorized_variational_approach/recon/test_0000.png'",
     "output_type": "error",
     "traceback": [
      "\u001b[0;31m---------------------------------------------------------------------------\u001b[0m",
      "\u001b[0;31mFileNotFoundError\u001b[0m                         Traceback (most recent call last)",
      "Cell \u001b[0;32mIn[1], line 20\u001b[0m\n\u001b[1;32m     14\u001b[0m path2 \u001b[39m=\u001b[39m \u001b[39m'\u001b[39m\u001b[39mresults/bmjshj2018_factorized_variational_approach/recon/test_0000.png\u001b[39m\u001b[39m'\u001b[39m\n\u001b[1;32m     15\u001b[0m \u001b[39m# path2 = 'results/elic_vtest/input/test0000.png'\u001b[39;00m\n\u001b[1;32m     16\u001b[0m \u001b[39m# path2 = 'results/elic_vtest/recon/gg18_test/x0_sub_A(measure).png'\u001b[39;00m\n\u001b[1;32m     17\u001b[0m \u001b[39m# path2 = 'data/test3/00000.png'\u001b[39;00m\n\u001b[1;32m     18\u001b[0m \u001b[39m# 示例用法\u001b[39;00m\n\u001b[1;32m     19\u001b[0m \u001b[39m# 读取两张图像\u001b[39;00m\n\u001b[0;32m---> 20\u001b[0m img1 \u001b[39m=\u001b[39m Image\u001b[39m.\u001b[39;49mopen(path2)\n\u001b[1;32m     21\u001b[0m img2 \u001b[39m=\u001b[39m Image\u001b[39m.\u001b[39mopen(path1)\n\u001b[1;32m     22\u001b[0m img1 \u001b[39m=\u001b[39m img1\u001b[39m.\u001b[39mconvert(\u001b[39m\"\u001b[39m\u001b[39mRGB\u001b[39m\u001b[39m\"\u001b[39m)\n",
      "File \u001b[0;32m~/.local/lib/python3.9/site-packages/PIL/Image.py:3431\u001b[0m, in \u001b[0;36mopen\u001b[0;34m(fp, mode, formats)\u001b[0m\n\u001b[1;32m   3428\u001b[0m     filename \u001b[39m=\u001b[39m os\u001b[39m.\u001b[39mpath\u001b[39m.\u001b[39mrealpath(os\u001b[39m.\u001b[39mfspath(fp))\n\u001b[1;32m   3430\u001b[0m \u001b[39mif\u001b[39;00m filename:\n\u001b[0;32m-> 3431\u001b[0m     fp \u001b[39m=\u001b[39m builtins\u001b[39m.\u001b[39;49mopen(filename, \u001b[39m\"\u001b[39;49m\u001b[39mrb\u001b[39;49m\u001b[39m\"\u001b[39;49m)\n\u001b[1;32m   3432\u001b[0m     exclusive_fp \u001b[39m=\u001b[39m \u001b[39mTrue\u001b[39;00m\n\u001b[1;32m   3433\u001b[0m \u001b[39melse\u001b[39;00m:\n",
      "\u001b[0;31mFileNotFoundError\u001b[0m: [Errno 2] No such file or directory: '/home/nbicc/data/hhb/diffusionPosteriorSampling/results/bmjshj2018_factorized_variational_approach/recon/test_0000.png'"
     ]
    }
   ],
   "source": [
    "from PIL import Image\n",
    "import numpy as np\n",
    "import torchvision.transforms as transforms\n",
    "def calculate_psnr(img1, img2):\n",
    "    mse = np.mean((img1 - img2) ** 2)\n",
    "    if mse == 0:\n",
    "        return float('inf')\n",
    "    max_pixel = 255.0\n",
    "    psnr = 20 * np.log10(max_pixel / np.sqrt(mse))\n",
    "    return psnr\n",
    "\n",
    "\n",
    "path1 = 'results/elic_section2/label/00000.png'\n",
    "path2 = 'results/elic_section2/recon/00000.png'\n",
    "# path2 = 'results/elic_vtest/input/test0000.png'\n",
    "# path2 = 'results/elic_vtest/recon/gg18_test/x0_sub_A(measure).png'\n",
    "# path2 = 'data/test3/00000.png'\n",
    "# 示例用法\n",
    "# 读取两张图像\n",
    "img1 = Image.open(path2)\n",
    "img2 = Image.open(path1)\n",
    "img1 = img1.convert(\"RGB\")\n",
    "img2 = img2.convert(\"RGB\")\n",
    "\n",
    "# 将图像转换为 NumPy 数组\n",
    "img1 = np.array(img1)\n",
    "img2 = np.array(img2)\n",
    "\n",
    "# 确保图像具有相同的尺寸和类型\n",
    "if img1.shape != img2.shape:\n",
    "    raise ValueError(\"输入图像必须具有相同的尺寸和类型\")\n",
    "\n",
    "psnr_value = calculate_psnr(img1, img2)\n",
    "print(f\"PSNR: {psnr_value} dB\")\n"
   ]
  }
 ],
 "metadata": {
  "kernelspec": {
   "display_name": "Idem_project",
   "language": "python",
   "name": "python3"
  },
  "language_info": {
   "codemirror_mode": {
    "name": "ipython",
    "version": 3
   },
   "file_extension": ".py",
   "mimetype": "text/x-python",
   "name": "python",
   "nbconvert_exporter": "python",
   "pygments_lexer": "ipython3",
   "version": "3.9.13"
  },
  "orig_nbformat": 4
 },
 "nbformat": 4,
 "nbformat_minor": 2
}
