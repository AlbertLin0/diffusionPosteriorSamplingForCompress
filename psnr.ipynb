{
 "cells": [
  {
   "cell_type": "code",
   "execution_count": 39,
   "metadata": {},
   "outputs": [],
   "source": [
    "from PIL import Image\n",
    "import numpy as np\n",
    "\n",
    "def calculate_psnr(img1, img2):\n",
    "    mse = np.mean((img1 - img2) ** 2)\n",
    "    if mse == 0:\n",
    "        return float('inf')\n",
    "    max_pixel = 255.0\n",
    "    psnr = 20 * np.log10(max_pixel / np.sqrt(mse))\n",
    "    return psnr\n",
    "\n"
   ]
  },
  {
   "cell_type": "code",
   "execution_count": 42,
   "metadata": {},
   "outputs": [
    {
     "name": "stdout",
     "output_type": "stream",
     "text": [
      "(256, 256, 3)\n",
      "(256, 256, 3)\n",
      "PSNR: 32.683454776189684 dB\n"
     ]
    }
   ],
   "source": [
    "path1 = 'results/elic_vtest/label/0001.png'\n",
    "path2 = 'results/elic_vtest/recon/test8_0002.png'\n",
    "# 示例用法\n",
    "# 读取两张图像\n",
    "img1 = Image.open(path2)\n",
    "img2 = Image.open(path1)\n",
    "img1 = img1.convert(\"RGB\")\n",
    "img2 = img2.convert(\"RGB\")\n",
    "\n",
    "# 将图像转换为 NumPy 数组\n",
    "img1 = np.array(img1)\n",
    "img2 = np.array(img2)\n",
    "print(img1.shape)\n",
    "print(img2.shape)\n",
    "# 确保图像具有相同的尺寸和类型\n",
    "if img1.shape != img2.shape:\n",
    "    raise ValueError(\"输入图像必须具有相同的尺寸和类型\")\n",
    "\n",
    "psnr_value = calculate_psnr(img1, img2)\n",
    "print(f\"PSNR: {psnr_value} dB\")\n"
   ]
  }
 ],
 "metadata": {
  "kernelspec": {
   "display_name": "Idem_project",
   "language": "python",
   "name": "python3"
  },
  "language_info": {
   "codemirror_mode": {
    "name": "ipython",
    "version": 3
   },
   "file_extension": ".py",
   "mimetype": "text/x-python",
   "name": "python",
   "nbconvert_exporter": "python",
   "pygments_lexer": "ipython3",
   "version": "3.9.13"
  },
  "orig_nbformat": 4
 },
 "nbformat": 4,
 "nbformat_minor": 2
}
