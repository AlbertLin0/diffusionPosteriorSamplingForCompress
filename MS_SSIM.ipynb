{
 "cells": [
  {
   "cell_type": "code",
   "execution_count": 3,
   "metadata": {},
   "outputs": [
    {
     "name": "stdout",
     "output_type": "stream",
     "text": [
      "(256, 256, 3)\n",
      "(256, 256, 3)\n",
      "MS-SSIM: 0.9567178664574154\n"
     ]
    }
   ],
   "source": [
    "import torch\n",
    "from pytorch_msssim import ms_ssim\n",
    "from PIL import Image\n",
    "import numpy as np\n",
    "\n",
    "path1 = 'results/elic_vtest/label/0001.png'\n",
    "path2 = 'results/elic_vtest/recon/test12_referCF_0001.png'\n",
    "# 示例用法\n",
    "# 读取两张图像\n",
    "img1 = Image.open(path2)\n",
    "img2 = Image.open(path1)\n",
    "img1 = img1.convert(\"RGB\")\n",
    "img2 = img2.convert(\"RGB\")\n",
    "\n",
    "# 将图像转换为 NumPy 数组\n",
    "img1 = np.array(img1) / 255.0\n",
    "img2 = np.array(img2) / 255.0\n",
    "print(img1.shape)\n",
    "print(img2.shape)\n",
    "\n",
    "img1_tensor = torch.from_numpy(img1).permute(2, 0, 1).unsqueeze(0)\n",
    "img2_tensor = torch.from_numpy(img2).permute(2, 0, 1).unsqueeze(0)\n",
    "\n",
    "# 计算 MS-SSIM\n",
    "ms_ssim_value = ms_ssim(img1_tensor, img2_tensor, data_range=1.0)\n",
    "print(\"MS-SSIM:\", ms_ssim_value.item())\n"
   ]
  }
 ],
 "metadata": {
  "kernelspec": {
   "display_name": "Idem_project",
   "language": "python",
   "name": "python3"
  },
  "language_info": {
   "codemirror_mode": {
    "name": "ipython",
    "version": 3
   },
   "file_extension": ".py",
   "mimetype": "text/x-python",
   "name": "python",
   "nbconvert_exporter": "python",
   "pygments_lexer": "ipython3",
   "version": "3.9.13"
  },
  "orig_nbformat": 4
 },
 "nbformat": 4,
 "nbformat_minor": 2
}
